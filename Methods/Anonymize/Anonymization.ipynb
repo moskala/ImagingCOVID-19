{
 "cells": [
  {
   "cell_type": "code",
   "execution_count": 13,
   "metadata": {},
   "outputs": [],
   "source": [
    "from pathlib import Path\n",
    "import nibabel\n",
    "from PIL import Image\n",
    "import dicomanonymizer\n",
    "import pydicom"
   ]
  },
  {
   "cell_type": "code",
   "execution_count": 6,
   "metadata": {},
   "outputs": [],
   "source": [
    "def get_anonymized_nii(file_name: str, input_folder: str):\n",
    "    \"\"\"\n",
    "    Function performs anonymization of given file of nifti1 type.\n",
    "    Function load file from given folder and empty set 'extra' from image frame.\n",
    "    It returns object of nibabel.nifti1.Nifti1Image type. \n",
    "    If file does not exists or other error occurs, None object is returned instead. \n",
    "\n",
    "    :param file_name: file name of source image\n",
    "    :param input_folder: name of folder containing given file\n",
    "    :return: output_folder: anonymized Nifti1Image or None object\n",
    "    \"\"\"\n",
    "\n",
    "    input_file_path = Path(input_folder) / file_name\n",
    "    try:\n",
    "        img = nibabel.load(input_file_path)\n",
    "\n",
    "        if img.extra:\n",
    "            img.extra = {}\n",
    "\n",
    "        return img\n",
    "    \n",
    "    except FileNotFoundError:\n",
    "        print(\"File {0} not found\".format(input_file_path))\n",
    "    except Exception as ex:\n",
    "        print(ex)\n",
    "\n",
    "    return None"
   ]
  },
  {
   "cell_type": "code",
   "execution_count": 8,
   "metadata": {},
   "outputs": [],
   "source": [
    "def get_anonymized_png_jpg(file_name: str, input_folder: str):\n",
    "    \"\"\"\"\n",
    "    Function performs anonymization of given file of jpg or png type.\n",
    "    Function load file from given folder and creates new image without exif data.\n",
    "    It returns object of PIL.Image.Image type. \n",
    "    If file does not exists or other error occurs, None object is returned instead. \n",
    "\n",
    "    :param file_name: file name of source image\n",
    "    :param input_folder: name of folder containing given file\n",
    "    :return: output_folder: anonymized Image or None object\n",
    "    \"\"\"\n",
    "    input_file_path = Path(input_folder) / file_name\n",
    "    try:\n",
    "        image = Image.open(input_file_path)\n",
    "\n",
    "        data = list(image.getdata())\n",
    "\n",
    "        image_without_exif = Image.new(image.mode, image.size)\n",
    "        image_without_exif.putdata(data)\n",
    "\n",
    "        return image_without_exif\n",
    "\n",
    "        print(\"File saved: {0}\".format(output_file_path))\n",
    "    except FileNotFoundError:\n",
    "        print(\"File {0} not found\".format(input_file_path))\n",
    "    except Exception as ex:\n",
    "        print(ex)\n",
    "\n",
    "    return None"
   ]
  },
  {
   "cell_type": "code",
   "execution_count": 19,
   "metadata": {},
   "outputs": [],
   "source": [
    "def get_anonymized_dicom(file_name: str, input_folder: str):\n",
    "    \"\"\"\n",
    "    Function performs anonymization of given file of dicom type.\n",
    "    Function uses method anonymizeDataset from dicomanonymizer package,\n",
    "    which anonymize file according to the standards. \n",
    "    It returns object of pydicom.dataset.FileDataset type. \n",
    "    If file does not exists or other error occurs, None object is returned instead. \n",
    "\n",
    "    :param file_name: file name of source image\n",
    "    :param input_folder: name of folder containing given file\n",
    "    :return: output_folder: anonymized FileDataset or None object\n",
    "    \"\"\"\n",
    "    try:\n",
    "        input_file_path = Path(input_folder) / file_name\n",
    "        ds = pydicom.dcmread(input_file_path)\n",
    "        dicomanonymizer.anonymizeDataset(ds)\n",
    "        return ds\n",
    "\n",
    "    except FileNotFoundError:\n",
    "        print(\"File {0} not found\".format(input_file_path))\n",
    "    except Exception as ex:\n",
    "        print(ex)\n",
    "\n",
    "    return None"
   ]
  },
  {
   "cell_type": "code",
   "execution_count": null,
   "metadata": {},
   "outputs": [],
   "source": [
    "# Testy"
   ]
  },
  {
   "cell_type": "code",
   "execution_count": 2,
   "metadata": {},
   "outputs": [],
   "source": [
    "img = nibabel.load(r\"D:\\Studia\\sem7\\inzynierka\\aplikacja\\test_data\\coronacases_org_001.nii\")"
   ]
  },
  {
   "cell_type": "code",
   "execution_count": 12,
   "metadata": {},
   "outputs": [
    {
     "data": {
      "text/plain": [
       "PIL.Image.Image"
      ]
     },
     "execution_count": 12,
     "metadata": {},
     "output_type": "execute_result"
    }
   ],
   "source": [
    "img = anonymize_png_jpg(\"ct2.png\", r\"D:\\Studia\\sem7\\inzynierka\\aplikacja\\test_data\")\n",
    "type(img)"
   ]
  },
  {
   "cell_type": "code",
   "execution_count": 20,
   "metadata": {},
   "outputs": [
    {
     "data": {
      "text/plain": [
       "pydicom.dataset.FileDataset"
      ]
     },
     "execution_count": 20,
     "metadata": {},
     "output_type": "execute_result"
    }
   ],
   "source": [
    "dc = anonymize_dicom(\"Italy_case010000.dcm\", r\"D:\\Studia\\sem7\\inzynierka\\aplikacja\\test_data\")\n",
    "type(dc)"
   ]
  }
 ],
 "metadata": {
  "kernelspec": {
   "display_name": "Python 3",
   "language": "python",
   "name": "python3"
  },
  "language_info": {
   "codemirror_mode": {
    "name": "ipython",
    "version": 3
   },
   "file_extension": ".py",
   "mimetype": "text/x-python",
   "name": "python",
   "nbconvert_exporter": "python",
   "pygments_lexer": "ipython3",
   "version": "3.8.5"
  }
 },
 "nbformat": 4,
 "nbformat_minor": 4
}
