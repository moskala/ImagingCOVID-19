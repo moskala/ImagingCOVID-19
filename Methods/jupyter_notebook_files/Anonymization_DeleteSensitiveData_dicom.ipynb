{
 "cells": [
  {
   "cell_type": "code",
   "execution_count": null,
   "metadata": {},
   "outputs": [],
   "source": [
    "# Dokument opisujący standardy anonimizacji zdjęć dicom:\n",
    "# http://dicom.nema.org/dicom/2013/output/chtml/part15/chapter_E.html#table_E.1-1\n",
    "\n",
    "# Przydante informacje o formacie dicom:\n",
    "# https://nipy.org/nibabel/dicom/dicom_intro.html#dicom-data-format"
   ]
  },
  {
   "cell_type": "code",
   "execution_count": 1,
   "metadata": {},
   "outputs": [],
   "source": [
    "import dicomanonymizer\n",
    "import pydicom\n",
    "from pydicom.data import get_testdata_file\n",
    "from pathlib import Path"
   ]
  },
  {
   "cell_type": "code",
   "execution_count": null,
   "metadata": {},
   "outputs": [],
   "source": [
    "# Metoda 1 - biblioteka dicomanonymizer\n",
    "\n",
    "def anonymize_dicom(input_file_path, output_file_path):\n",
    "    dicomanonymizer.anonymizeDICOMFile(input_file_path, output_file_path)"
   ]
  },
  {
   "cell_type": "code",
   "execution_count": 72,
   "metadata": {},
   "outputs": [],
   "source": [
    "# Metoda 2 - biblioteka pydicom\n",
    "\n",
    "def anonymize_selected_tags(input_file_path, output_file_path):\n",
    "    dataset = pydicom.dcmread(input_file_path)\n",
    "    data_elements = dataset.dir(\"patient\") # Wszystkie tagi zawierające w nazwie \"patient\"\n",
    "    for data_element in data_elements:\n",
    "        del dataset[data_element]\n",
    "        \n",
    "    dataset.save_as(output_file_path)\n",
    "    "
   ]
  },
  {
   "cell_type": "code",
   "execution_count": 77,
   "metadata": {},
   "outputs": [],
   "source": [
    "# Przykład wywołania\n",
    "\n",
    "input_path = Path('sample_data') / 'MR_small.dcm'\n",
    "output_path = Path('sample_data') / 'MR_small_anonymized.dcm'\n",
    "\n",
    "anonymize_selected_tags(input_path, output_path)\n",
    "\n",
    "# Można zobaczyć listę etykiet przed i po\n",
    "# list(pydicom.dcmread(input_path))\n",
    "# list(pydicom.dcmread(output_path))"
   ]
  },
  {
   "cell_type": "code",
   "execution_count": 2,
   "metadata": {},
   "outputs": [],
   "source": [
    "def anonymize_dicom(file_name: str, input_folder: str, output_folder: str):\n",
    "    \"\"\"\n",
    "    Funkcja przeprowadza anonimizację na zdjęciach formatu dicom.\n",
    "    Korzysta z metody anonymizeDICOMFile z biblioteki dicomanonymizer,\n",
    "    która anonimizuje plik zgodnie ze standardem.\n",
    "    Funkcja zapisuje zanonimizowane zdjęcie w docelowym folderze.\n",
    "    Zwraca ścieżkę do nowego obrazu lub None.\n",
    "\n",
    "    :param file_name: nazwa pliku do zanonimizowania\n",
    "    :param input_folder: nazwa folderu zwierającego plik\n",
    "    :param output_folder: nazwa folderu docelowego\n",
    "    :return: ścieżka do nowego obrazu lub None\n",
    "    \"\"\"\n",
    "\n",
    "    input_file_path = Path(input_folder) / file_name\n",
    "    output_file_path = Path(output_folder) / (\"anonymized_\" + file_name)\n",
    "\n",
    "    try:\n",
    "        dicomanonymizer.anonymizeDICOMFile(input_file_path, output_file_path)\n",
    "        return output_file_path\n",
    "    except FileNotFoundError:\n",
    "        print(\"File {0} not found\".format(input_file_path))\n",
    "    except Exception as ex:\n",
    "        print(ex)\n",
    "\n",
    "    return None"
   ]
  },
  {
   "cell_type": "code",
   "execution_count": 15,
   "metadata": {},
   "outputs": [
    {
     "name": "stdout",
     "output_type": "stream",
     "text": [
      "[Errno 22] Invalid argument: 'D:\\\\Studia\\\\sem7\\\\inzynierka\\x07plikacja\\\\ImagingCOVID-19\\\\Methods\\tests\\test_data'\n"
     ]
    }
   ],
   "source": [
    "anonymize_dicom(r\"D:\\Studia\\sem7\\inzynierka\\aplikacja\\ImagingCOVID-19\\Methods\\tests\\test_data\", \"Italy_case010051.dcm\", \"D:\\Studia\\sem7\\inzynierka\\aplikacja\\ImagingCOVID-19\\Methods\\tests\\test_data\\test_output\")"
   ]
  },
  {
   "cell_type": "code",
   "execution_count": 8,
   "metadata": {},
   "outputs": [],
   "source": [
    "input_folder = r\"D:\\Studia\\sem7\\inzynierka\\aplikacja\\ImagingCOVID-19\\Methods\\tests\\test_data\"\n",
    "file_name = \"Italy_case010051.dcm\"\n",
    "output_filder = r\"D:\\Studia\\sem7\\inzynierka\\aplikacja\\ImagingCOVID-19\\Methods\\tests\\test_data\\test_output\""
   ]
  },
  {
   "cell_type": "code",
   "execution_count": 11,
   "metadata": {},
   "outputs": [],
   "source": [
    "input_file_path = Path(input_folder).resolve() / file_name"
   ]
  },
  {
   "cell_type": "code",
   "execution_count": 13,
   "metadata": {},
   "outputs": [
    {
     "data": {
      "text/plain": [
       "WindowsPath('D:/Studia/sem7/inzynierka/aplikacja/ImagingCOVID-19/Methods/tests/test_data/test_output/anonymized_Italy_case010051.dcm')"
      ]
     },
     "execution_count": 13,
     "metadata": {},
     "output_type": "execute_result"
    }
   ],
   "source": [
    "anonymize_dicom(file_name, str(Path(input_folder).resolve()), output_filder)"
   ]
  }
 ],
 "metadata": {
  "kernelspec": {
   "display_name": "Python 3",
   "language": "python",
   "name": "python3"
  },
  "language_info": {
   "codemirror_mode": {
    "name": "ipython",
    "version": 3
   },
   "file_extension": ".py",
   "mimetype": "text/x-python",
   "name": "python",
   "nbconvert_exporter": "python",
   "pygments_lexer": "ipython3",
   "version": "3.8.5"
  }
 },
 "nbformat": 4,
 "nbformat_minor": 4
}
