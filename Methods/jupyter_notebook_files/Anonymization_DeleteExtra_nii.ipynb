{
 "cells": [
  {
   "cell_type": "code",
   "execution_count": 48,
   "metadata": {},
   "outputs": [],
   "source": [
    "# https://brainder.org/2012/09/23/the-nifti-file-format/\n",
    "# https://nipy.org/nibabel/nifti_images.html"
   ]
  },
  {
   "cell_type": "code",
   "execution_count": 58,
   "metadata": {},
   "outputs": [],
   "source": [
    "import nibabel\n",
    "import numpy as np\n",
    "from pathlib import Path"
   ]
  },
  {
   "cell_type": "code",
   "execution_count": 56,
   "metadata": {},
   "outputs": [],
   "source": [
    "def anonymize_and_save_nii(folder_name: str, file_name: str):\n",
    "    '''\n",
    "    Funkcja przeprowadza anonimizację na zdjęciach formatu nii. \n",
    "    Zbiór 'extra' jest zastępowany pustym zbiorem.\n",
    "    Funkcja zapisuje zanonimizowane zdjęcie w tym samym folderze.\n",
    "    Zwraca nowe zdjęcie w formacie nibabel.nifti1.Nifti1Image.\n",
    "    '''\n",
    "    \n",
    "    folder = Path(folder_name)\n",
    "    img = nibabel.load(folder / file_name)\n",
    "    \n",
    "    if img.extra:\n",
    "        img.extra = {}\n",
    "        \n",
    "    anonym_file_name = \"anonymized_\" + file_name\n",
    "    save_path = folder / anonym_file_name\n",
    "    \n",
    "    nibabel.save(img, save_path)\n",
    "    \n",
    "    return img"
   ]
  },
  {
   "cell_type": "code",
   "execution_count": 51,
   "metadata": {},
   "outputs": [],
   "source": [
    "# help(img.update_header)\n",
    "# print(img.header) "
   ]
  },
  {
   "cell_type": "code",
   "execution_count": 52,
   "metadata": {},
   "outputs": [],
   "source": [
    "folder = Path(r\"D:\\Studia\\sem7\\inzynierka\\data\\eksperyment\")\n",
    "file_name = \"coronacases_org_001.nii\""
   ]
  },
  {
   "cell_type": "code",
   "execution_count": 57,
   "metadata": {},
   "outputs": [
    {
     "data": {
      "text/plain": [
       "<nibabel.nifti1.Nifti1Image at 0x1c433ddbee0>"
      ]
     },
     "execution_count": 57,
     "metadata": {},
     "output_type": "execute_result"
    }
   ],
   "source": [
    "anonymize_nii(folder, file_name)"
   ]
  },
  {
   "cell_type": "code",
   "execution_count": 61,
   "metadata": {},
   "outputs": [
    {
     "name": "stdout",
     "output_type": "stream",
     "text": [
      "File ala not found\n"
     ]
    }
   ],
   "source": [
    "try:\n",
    "  nibabel.load(\"ala.nii\")\n",
    "except FileNotFoundError:\n",
    "  print(\"File {0} not found\".format(\"ala\"))\n",
    "except Exception as ex:\n",
    "  print(ex.message)"
   ]
  }
 ],
 "metadata": {
  "kernelspec": {
   "display_name": "Python 3",
   "language": "python",
   "name": "python3"
  },
  "language_info": {
   "codemirror_mode": {
    "name": "ipython",
    "version": 3
   },
   "file_extension": ".py",
   "mimetype": "text/x-python",
   "name": "python",
   "nbconvert_exporter": "python",
   "pygments_lexer": "ipython3",
   "version": "3.8.5"
  }
 },
 "nbformat": 4,
 "nbformat_minor": 4
}
