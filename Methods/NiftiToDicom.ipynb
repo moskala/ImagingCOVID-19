{
 "cells": [
  {
   "cell_type": "code",
   "execution_count": 23,
   "metadata": {},
   "outputs": [],
   "source": [
    "from pathlib import Path\n",
    "\n",
    "import nibabel\n",
    "import matplotlib.pyplot as plt\n",
    "import numpy as np\n",
    "import pathlib\n",
    "import SimpleITK as sitk"
   ]
  },
  {
   "cell_type": "code",
   "execution_count": 64,
   "metadata": {},
   "outputs": [],
   "source": [
    "def convert_nifti1_to_dicom(src_file_path, dest_folder_location=\"\"):\n",
    "    \n",
    "    # Odczytanie nazwy pliku bez rozszerzenia\n",
    "    dest_folder_name = Path(src_file_path).stem\n",
    "    slices_name = str(Path(src_file_path).stem)\n",
    "    # Stworzenie folderu na zdjęcia\n",
    "    destination_folder = Path(dest_folder_name)\n",
    "    if not destination_folder.exists():\n",
    "        destination_folder.mkdir()\n",
    "    \n",
    "    writer = sitk.ImageFileWriter()\n",
    "    # Use the study/series/frame of reference information given in the meta-data\n",
    "    # dictionary and not the automatically generated information from the file IO\n",
    "    writer.KeepOriginalImageUIDOn()\n",
    "    \n",
    "    NiftyImg = sitk.ReadImage(str(src_file_path))\n",
    "    Img_array = sitk.GetArrayViewFromImage(NiftyImg)\n",
    "    new_img = sitk.GetImageFromArray(Img_array)\n",
    "    new_img.SetSpacing([2.5,3.5,4.5])\n",
    "    Slic_Num = len(Img_array)\n",
    "    print(slices_name, Slic_Num)\n",
    "    for slic in range(Slic_Num):\n",
    "        DicomFileName = str( destination_folder / (slices_name + \"-\" + str(slic) + \".dcm\"))\n",
    "        writer.SetFileName(DicomFileName)        \n",
    "        writer.Execute(new_img[:,:,slic])\n",
    "#         print('Successifully write: ', slic)\n",
    "    "
   ]
  },
  {
   "cell_type": "code",
   "execution_count": 65,
   "metadata": {},
   "outputs": [],
   "source": [
    "src_file_path = Path(r\"D:\\Studia\\sem7\\inzynierka\\aplikacja\\test_data\\coronacases_org_001.nii\")"
   ]
  },
  {
   "cell_type": "code",
   "execution_count": 66,
   "metadata": {},
   "outputs": [
    {
     "name": "stdout",
     "output_type": "stream",
     "text": [
      "coronacases_org_001 301\n"
     ]
    }
   ],
   "source": [
    "convert_nifti1_to_dicom(src_file_path)"
   ]
  },
  {
   "cell_type": "code",
   "execution_count": 68,
   "metadata": {},
   "outputs": [
    {
     "data": {
      "text/plain": [
       "Dataset.file_meta -------------------------------\n",
       "(0002, 0000) File Meta Information Group Length  UL: 254\n",
       "(0002, 0001) File Meta Information Version       OB: b'\\x00\\x01'\n",
       "(0002, 0002) Media Storage SOP Class UID         UI: Secondary Capture Image Storage\n",
       "(0002, 0003) Media Storage SOP Instance UID      UI: 1.2.826.0.1.3680043.2.1125.1.45526638182327483035957922964787181\n",
       "(0002, 0010) Transfer Syntax UID                 UI: Implicit VR Little Endian\n",
       "(0002, 0012) Implementation Class UID            UI: 1.2.826.0.1.3680043.2.1143.107.104.103.115.3.0.5.111.124.113\n",
       "(0002, 0013) Implementation Version Name         SH: 'GDCM 3.0.5'\n",
       "(0002, 0016) Source Application Entity Title     AE: 'GDCM/ITK 5.1.1'\n",
       "-------------------------------------------------\n",
       "(0008, 0016) SOP Class UID                       UI: Secondary Capture Image Storage\n",
       "(0008, 0018) SOP Instance UID                    UI: 1.2.826.0.1.3680043.2.1125.1.45526638182327483035957922964787181\n",
       "(0008, 0020) Study Date                          DA: '20201124'\n",
       "(0008, 0030) Study Time                          TM: '162542.587618'\n",
       "(0008, 0050) Accession Number                    SH: ''\n",
       "(0008, 0060) Modality                            CS: 'OT'\n",
       "(0008, 0064) Conversion Type                     CS: 'WSD'\n",
       "(0008, 0090) Referring Physician's Name          PN: ''\n",
       "(0010, 0010) Patient's Name                      PN: ''\n",
       "(0010, 0020) Patient ID                          LO: ''\n",
       "(0010, 0030) Patient's Birth Date                DA: ''\n",
       "(0010, 0040) Patient's Sex                       CS: ''\n",
       "(0018, 2010) Nominal Scanned Pixel Spacing       DS: [3.5, 2.5]\n",
       "(0020, 000d) Study Instance UID                  UI: 1.2.826.0.1.3680043.2.1125.1.83904870390251982315366789499185548\n",
       "(0020, 000e) Series Instance UID                 UI: 1.2.826.0.1.3680043.2.1125.1.17909417036995909683006503902864592\n",
       "(0020, 0010) Study ID                            SH: ''\n",
       "(0020, 0011) Series Number                       IS: None\n",
       "(0020, 0013) Instance Number                     IS: None\n",
       "(0020, 0020) Patient Orientation                 CS: ''\n",
       "(0028, 0002) Samples per Pixel                   US: 1\n",
       "(0028, 0004) Photometric Interpretation          CS: 'MONOCHROME2'\n",
       "(0028, 0010) Rows                                US: 512\n",
       "(0028, 0011) Columns                             US: 512\n",
       "(0028, 0100) Bits Allocated                      US: 16\n",
       "(0028, 0101) Bits Stored                         US: 16\n",
       "(0028, 0102) High Bit                            US: 15\n",
       "(0028, 0103) Pixel Representation                US: 1\n",
       "(0028, 1052) Rescale Intercept                   DS: \"0.0\"\n",
       "(0028, 1053) Rescale Slope                       DS: \"1.0\"\n",
       "(0028, 1054) Rescale Type                        LO: 'US'\n",
       "(7fe0, 0010) Pixel Data                          OW: Array of 524288 elements"
      ]
     },
     "execution_count": 68,
     "metadata": {},
     "output_type": "execute_result"
    }
   ],
   "source": [
    "import pydicom\n",
    "dc = pydicom.dcmread(\"coronacases_org_001\\coronacases_org_001-64.dcm\")\n",
    "dc"
   ]
  }
 ],
 "metadata": {
  "kernelspec": {
   "display_name": "Python 3",
   "language": "python",
   "name": "python3"
  },
  "language_info": {
   "codemirror_mode": {
    "name": "ipython",
    "version": 3
   },
   "file_extension": ".py",
   "mimetype": "text/x-python",
   "name": "python",
   "nbconvert_exporter": "python",
   "pygments_lexer": "ipython3",
   "version": "3.8.5"
  }
 },
 "nbformat": 4,
 "nbformat_minor": 4
}
