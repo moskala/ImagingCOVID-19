{
 "cells": [
  {
   "cell_type": "markdown",
   "metadata": {},
   "source": [
    "### Folder content\n",
    "\n",
    "This folder contains implemented methods in separate files. \n",
    "\n",
    "Naming convention:\n",
    "**Module_MethodName_ImagesFormats**\n",
    "\n",
    "For example:\n",
    "\\\n",
    "*LungSegmentation_MethodX_dicom.py*\n",
    "\\\n",
    "*Anonimization_StrigOffMetaData_png_jpg.py*"
   ]
  }
 ],
 "metadata": {
  "kernelspec": {
   "display_name": "Python 3",
   "language": "python",
   "name": "python3"
  },
  "language_info": {
   "codemirror_mode": {
    "name": "ipython",
    "version": 3
   },
   "file_extension": ".py",
   "mimetype": "text/x-python",
   "name": "python",
   "nbconvert_exporter": "python",
   "pygments_lexer": "ipython3",
   "version": "3.8.5"
  }
 },
 "nbformat": 4,
 "nbformat_minor": 4
}
