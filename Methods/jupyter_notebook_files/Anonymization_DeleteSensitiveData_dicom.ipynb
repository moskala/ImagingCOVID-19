{
 "cells": [
  {
   "cell_type": "code",
   "execution_count": null,
   "metadata": {},
   "outputs": [],
   "source": [
    "# Dokument opisujący standardy anonimizacji zdjęć dicom:\n",
    "# http://dicom.nema.org/dicom/2013/output/chtml/part15/chapter_E.html#table_E.1-1\n",
    "\n",
    "# Przydante informacje o formacie dicom:\n",
    "# https://nipy.org/nibabel/dicom/dicom_intro.html#dicom-data-format"
   ]
  },
  {
   "cell_type": "code",
   "execution_count": 25,
   "metadata": {},
   "outputs": [],
   "source": [
    "import dicomanonymizer\n",
    "import pydicom\n",
    "from pydicom.data import get_testdata_file\n",
    "from pathlib import Path"
   ]
  },
  {
   "cell_type": "code",
   "execution_count": null,
   "metadata": {},
   "outputs": [],
   "source": [
    "# Metoda 1 - biblioteka dicomanonymizer\n",
    "\n",
    "def anonymize_dicom(input_file_path, output_file_path):\n",
    "    dicomanonymizer.anonymizeDICOMFile(input_file_path, output_file_path)"
   ]
  },
  {
   "cell_type": "code",
   "execution_count": 72,
   "metadata": {},
   "outputs": [],
   "source": [
    "# Metoda 2 - biblioteka pydicom\n",
    "\n",
    "def anonymize_selected_tags(input_file_path, output_file_path):\n",
    "    dataset = pydicom.dcmread(input_file_path)\n",
    "    data_elements = dataset.dir(\"patient\") # Wszystkie tagi zawierające w nazwie \"patient\"\n",
    "    for data_element in data_elements:\n",
    "        del dataset[data_element]\n",
    "        \n",
    "    dataset.save_as(output_file_path)\n",
    "    "
   ]
  },
  {
   "cell_type": "code",
   "execution_count": 77,
   "metadata": {},
   "outputs": [],
   "source": [
    "# Przykład wywołania\n",
    "\n",
    "input_path = Path('sample_data') / 'MR_small.dcm'\n",
    "output_path = Path('sample_data') / 'MR_small_anonymized.dcm'\n",
    "\n",
    "anonymize_selected_tags(input_path, output_path)\n",
    "\n",
    "# Można zobaczyć listę etykiet przed i po\n",
    "# list(pydicom.dcmread(input_path))\n",
    "# list(pydicom.dcmread(output_path))"
   ]
  }
 ],
 "metadata": {
  "kernelspec": {
   "display_name": "Python 3",
   "language": "python",
   "name": "python3"
  },
  "language_info": {
   "codemirror_mode": {
    "name": "ipython",
    "version": 3
   },
   "file_extension": ".py",
   "mimetype": "text/x-python",
   "name": "python",
   "nbconvert_exporter": "python",
   "pygments_lexer": "ipython3",
   "version": "3.8.5"
  }
 },
 "nbformat": 4,
 "nbformat_minor": 4
}
